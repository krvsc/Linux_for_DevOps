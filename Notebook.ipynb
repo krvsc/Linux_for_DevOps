{
 "cells": [
  {
   "cell_type": "markdown",
   "metadata": {},
   "source": [
    "## if-else statement\n",
    "\n",
    "The program evaluates the test exp. and execute statement only if statement is **True**."
   ]
  },
  {
   "cell_type": "markdown",
   "metadata": {},
   "source": []
  }
 ],
 "metadata": {
  "language_info": {
   "name": "python"
  }
 },
 "nbformat": 4,
 "nbformat_minor": 2
}
