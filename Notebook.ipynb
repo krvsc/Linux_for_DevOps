{
 "cells": [
  {
   "cell_type": "markdown",
   "metadata": {},
   "source": [
    "## if-else statement\n",
    "\n",
    "The program evaluates the test exp. and execute statement only if statement is **True**."
   ]
  },
  {
   "cell_type": "markdown",
   "metadata": {},
   "source": [
    "### Examples:"
   ]
  },
  {
   "cell_type": "code",
   "execution_count": 2,
   "metadata": {},
   "outputs": [
    {
     "name": "stdout",
     "output_type": "stream",
     "text": [
      "Number is positive\n",
      "This will print always\n"
     ]
    }
   ],
   "source": [
    "num = 10\n",
    "\n",
    "### try 1, -1 and None\n",
    "\n",
    "if num == 10:\n",
    "    print(\"Number is positive\")\n",
    "print(\"This will print always\")\n",
    " ### change number and check it"
   ]
  },
  {
   "cell_type": "markdown",
   "metadata": {},
   "source": [
    "## if-else example"
   ]
  },
  {
   "cell_type": "code",
   "execution_count": 8,
   "metadata": {},
   "outputs": [
    {
     "name": "stdout",
     "output_type": "stream",
     "text": [
      "Positive number\n"
     ]
    }
   ],
   "source": [
    "num = 10 \n",
    "if num > 0:\n",
    "    print(\"Positive number\")\n",
    "else:\n",
    "    print (\"Negative number\")"
   ]
  },
  {
   "cell_type": "markdown",
   "metadata": {},
   "source": [
    "### Try with another number."
   ]
  },
  {
   "cell_type": "markdown",
   "metadata": {},
   "source": [
    "> **NOTE:** Practise is key to leran."
   ]
  },
  {
   "cell_type": "markdown",
   "metadata": {},
   "source": [
    "### if..elif..else Example"
   ]
  },
  {
   "cell_type": "code",
   "execution_count": 9,
   "metadata": {},
   "outputs": [
    {
     "name": "stdout",
     "output_type": "stream",
     "text": [
      "positive number\n"
     ]
    }
   ],
   "source": [
    " num = 10.5\n",
    " if num > 0:\n",
    "    print(\"positive number\")\n",
    "elif num ==0:\n",
    "    print(\"zero\")\n",
    "else:\n",
    "    print(\"negative number\")\n"
   ]
  },
  {
   "cell_type": "markdown",
   "metadata": {},
   "source": [
    "### nested if example:"
   ]
  },
  {
   "cell_type": "code",
   "execution_count": 5,
   "metadata": {},
   "outputs": [
    {
     "name": "stdout",
     "output_type": "stream",
     "text": [
      "positive number\n"
     ]
    }
   ],
   "source": [
    "num = 10\n",
    "if num >= 0:\n",
    "    if num > 0:\n",
    "        print(\"positive number\")\n",
    "    else:\n",
    "        print(\"zero\")\n",
    "else:\n",
    "    print(\"negative number\")"
   ]
  },
  {
   "cell_type": "markdown",
   "metadata": {},
   "source": [
    "### Example: Lets make program to find out largest num "
   ]
  },
  {
   "cell_type": "code",
   "execution_count": 13,
   "metadata": {},
   "outputs": [
    {
     "name": "stdout",
     "output_type": "stream",
     "text": [
      "Largest num is:15\n"
     ]
    }
   ],
   "source": [
    "n1 = 5\n",
    "n2 = 15\n",
    "n3 = -1\n",
    "\n",
    "if (n1>n2) and (n2>n3):\n",
    "    largest = n1\n",
    "elif (n2 > n3) and (n2 > n1):\n",
    "    largest = n2\n",
    "else:\n",
    "    largest = n3\n",
    "print(\"Largest num is:{}\".format(largest))"
   ]
  },
  {
   "cell_type": "markdown",
   "metadata": {},
   "source": [
    "### Practise is key to success. Happy learning!"
   ]
  }
 ],
 "metadata": {
  "kernelspec": {
   "display_name": "Python 3",
   "language": "python",
   "name": "python3"
  },
  "language_info": {
   "codemirror_mode": {
    "name": "ipython",
    "version": 3
   },
   "file_extension": ".py",
   "mimetype": "text/x-python",
   "name": "python",
   "nbconvert_exporter": "python",
   "pygments_lexer": "ipython3",
   "version": "3.12.1"
  }
 },
 "nbformat": 4,
 "nbformat_minor": 2
}
