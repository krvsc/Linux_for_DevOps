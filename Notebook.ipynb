{
 "cells": [
  {
   "cell_type": "markdown",
   "metadata": {},
   "source": [
    "# if-else statements"
   ]
  },
  {
   "cell_type": "markdown",
   "metadata": {},
   "source": [
    ">Used to make decisions\n",
    "# if staement syntax\n",
    "if test expression: <br>\n",
    "    statement(s) <br>\n",
    "The program evaluates the test expression and will execute statement(s) only if the text expression is True.<br>"
   ]
  }
 ],
 "metadata": {
  "language_info": {
   "name": "python"
  }
 },
 "nbformat": 4,
 "nbformat_minor": 2
}
